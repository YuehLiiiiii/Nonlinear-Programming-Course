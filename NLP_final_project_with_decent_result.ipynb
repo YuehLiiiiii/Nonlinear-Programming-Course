{
 "cells": [
  {
   "cell_type": "code",
   "execution_count": 1,
   "metadata": {},
   "outputs": [],
   "source": [
    "from gurobipy import *\n",
    "import pandas as pd\n",
    "import numpy as np\n",
    "import math\n",
    "from itertools import combinations\n",
    "from numpy import linalg as LA\n",
    "import random"
   ]
  },
  {
   "cell_type": "code",
   "execution_count": 2,
   "metadata": {},
   "outputs": [
    {
     "name": "stdout",
     "output_type": "stream",
     "text": [
      "Restricted license - for non-production use only - expires 2023-10-25\n"
     ]
    }
   ],
   "source": [
    "# Create a model\n",
    "m = Model(\"VC\")"
   ]
  },
  {
   "cell_type": "code",
   "execution_count": 3,
   "metadata": {},
   "outputs": [
    {
     "name": "stdout",
     "output_type": "stream",
     "text": [
      "[0, 1] , i index set\n",
      "[(0, 1)] , (i,j) index set\n"
     ]
    }
   ],
   "source": [
    "# Aircrafts Setting\n",
    "# distance unit :(km)\n",
    "\n",
    "# ( Radius Setting r = sqrt(123^2+123^2) )\n",
    "\n",
    "r = math.sqrt(123**2+123**2)\n",
    "\n",
    "# Situation 1\n",
    "#Aircrafts = [[-123,-123,45],[123,-123,135]]\n",
    "\n",
    "# Situation 2\n",
    "#Aircrafts = [[-123,-123,30],[123,-123,150]]\n",
    "\n",
    "# Situation 3\n",
    "Aircrafts = [[-123,-123,60],[123,-123,135]]\n",
    "\n",
    "\n",
    "# Situation 4(random)  \n",
    "'''\n",
    "k = random.randint(0,90)\n",
    "a = random.randint(-30,30)\n",
    "g = random.randint(0,90)\n",
    "b = random.randint(-30,30)\n",
    "l = random.randint(0,90)\n",
    "c = random.randint(-30,30)\n",
    "Aircrafts = [[r*math.sin(k),r*math.cos(k),k+a],[r*math.sin(g),r*math.cos(g),g+b],[r*math.sin(l),r*math.cos(l),l+c]]'''\n",
    "'''\n",
    "Ki=[]\n",
    "for i in range(random.randint(2,5)):\n",
    "    k = random.randint(0,90)\n",
    "    X=r*math.sin(k)\n",
    "    Y=r*math.cos(k)\n",
    "    if X>=0 and Y>=0:\n",
    "        φ = random.randint(-180,-90)\n",
    "    elif X<=0 and Y>=0:\n",
    "        φ = random.randint(-90,0)\n",
    "    elif X<=0 and Y<=0:\n",
    "        φ = random.randint(0,90)\n",
    "    else:\n",
    "        φ = random.randint(90,180)    \n",
    "    Ki.append([X,Y,φ])\n",
    "    \n",
    "Aircrafts = []\n",
    "for j in range(len(Ki)):\n",
    "    Aircrafts.append(Ki[j])'''\n",
    "    \n",
    "\n",
    "\n",
    "\n",
    "# number of aircrafts\n",
    "n = len(Aircrafts)\n",
    "\n",
    "# create pairing list\n",
    "num_aircraft_list = []\n",
    "for i in  range(n):\n",
    "    num_aircraft_list.append(i)\n",
    "\n",
    "Aircraft_index_comb = list(combinations(num_aircraft_list,2))\n",
    "\n",
    "# number of combinations\n",
    "b = len(Aircraft_index_comb)\n",
    "\n",
    "print(num_aircraft_list, \", i index set\")\n",
    "print(Aircraft_index_comb, \", (i,j) index set\")\n",
    "\n",
    "# safety distance\n",
    "d = 8"
   ]
  },
  {
   "cell_type": "code",
   "execution_count": 4,
   "metadata": {},
   "outputs": [
    {
     "data": {
      "text/plain": [
       "[[-123, -123, 60], [123, -123, 135]]"
      ]
     },
     "execution_count": 4,
     "metadata": {},
     "output_type": "execute_result"
    }
   ],
   "source": [
    "Aircrafts"
   ]
  },
  {
   "cell_type": "markdown",
   "metadata": {},
   "source": [
    "# Variables"
   ]
  },
  {
   "cell_type": "code",
   "execution_count": 5,
   "metadata": {},
   "outputs": [],
   "source": [
    "Wi = m.addVars(b,vtype=GRB.BINARY)\n",
    "Yi =  m.addVars(b,vtype=GRB.BINARY)\n",
    "Zi = m.addVars(b,vtype=GRB.BINARY)\n",
    "Vi = m.addVars(n,vtype=GRB.CONTINUOUS)"
   ]
  },
  {
   "cell_type": "code",
   "execution_count": 6,
   "metadata": {},
   "outputs": [],
   "source": [
    "Xi = []\n",
    "for i in range(b):\n",
    "    Xi.append([ Aircrafts[ Aircraft_index_comb[i][0] ][0] - Aircrafts[ Aircraft_index_comb[i][1] ][0] \n",
    "               , Aircrafts[ Aircraft_index_comb[i][0] ][1] - Aircrafts[ Aircraft_index_comb[i][1] ][1] ])"
   ]
  },
  {
   "cell_type": "code",
   "execution_count": 7,
   "metadata": {},
   "outputs": [],
   "source": [
    "Vri = []\n",
    "for i in range(b):\n",
    "    Vri.append([ math.cos(math.radians(Aircrafts[ Aircraft_index_comb[i][0] ][2]))*Vi[Aircraft_index_comb[i][0]] - math.cos(math.radians(Aircrafts[ Aircraft_index_comb[i][1] ][2]))*Vi[Aircraft_index_comb[i][1]]  \n",
    "               ,  math.sin(math.radians(Aircrafts[ Aircraft_index_comb[i][0] ][2]))*Vi[Aircraft_index_comb[i][0]] - math.sin(math.radians(Aircrafts[ Aircraft_index_comb[i][1] ][2]))*Vi[Aircraft_index_comb[i][1]]])"
   ]
  },
  {
   "cell_type": "markdown",
   "metadata": {},
   "source": [
    "# Objective Function"
   ]
  },
  {
   "cell_type": "code",
   "execution_count": 8,
   "metadata": {},
   "outputs": [],
   "source": [
    "m.setObjective( quicksum(Wi[i] for i in range(b)) ,GRB.MAXIMIZE)"
   ]
  },
  {
   "cell_type": "markdown",
   "metadata": {},
   "source": [
    "# Constraints"
   ]
  },
  {
   "cell_type": "code",
   "execution_count": 9,
   "metadata": {},
   "outputs": [],
   "source": [
    "max_speed = 400*1.852*1.03\n",
    "min_speed = 400*1.852*0.94\n",
    "m.addConstrs( Vi[i] >= min_speed for i in range(n) ) \n",
    "m.addConstrs( Vi[i] <= max_speed for i in range(n) ) \n",
    "m.update()"
   ]
  },
  {
   "cell_type": "code",
   "execution_count": 10,
   "metadata": {},
   "outputs": [],
   "source": [
    "m.addConstrs(\n",
    "    (Xi[i][0] * Vri[i][0] + Xi[i][1] * Vri[i][1]) *\n",
    "    (Xi[i][0] * Vri[i][0] + Xi[i][1] * Vri[i][1]) -\n",
    "    ((Vri[i][0] * Vri[i][0] + Vri[i][1] * Vri[i][1])) *\n",
    "    ((Xi[i][0] * Xi[i][0] + Xi[i][1] * Xi[i][1]) - d * d) <= 1000000 *\n",
    "    Zi[i] for i in range(b))\n",
    "m.update()"
   ]
  },
  {
   "cell_type": "code",
   "execution_count": 11,
   "metadata": {},
   "outputs": [],
   "source": [
    "m.addConstrs(\n",
    "    (Xi[i][0] * Vri[i][0] + Xi[i][1] * Vri[i][1]) *\n",
    "    (Xi[i][0] * Vri[i][0] + Xi[i][1] * Vri[i][1]) -\n",
    "    ((Vri[i][0] * Vri[i][0] + Vri[i][1] * Vri[i][1])) *\n",
    "    ((Xi[i][0] * Xi[i][0] + Xi[i][1] * Xi[i][1]) - d * d) >= 1000000*\n",
    "    (Zi[i] - 1) for i in range(b))\n",
    "m.update()"
   ]
  },
  {
   "cell_type": "code",
   "execution_count": 12,
   "metadata": {},
   "outputs": [],
   "source": [
    "m.addConstrs(\n",
    "    (Xi[i][0] * Vri[i][0] + Xi[i][1] * Vri[i][1]) <= 1000000 * Yi[i]\n",
    "    for i in range(b))\n",
    "m.update()"
   ]
  },
  {
   "cell_type": "code",
   "execution_count": 13,
   "metadata": {},
   "outputs": [],
   "source": [
    "m.addConstrs(\n",
    "    (Xi[i][0] * Vri[i][0] + Xi[i][1] * Vri[i][1]) >= 1000000 * (Yi[i] - 1)\n",
    "    for i in range(b))\n",
    "m.update()"
   ]
  },
  {
   "cell_type": "code",
   "execution_count": 14,
   "metadata": {
    "scrolled": true
   },
   "outputs": [],
   "source": [
    "m.addConstrs(Wi[i] >= Yi[i] for i in range(b))\n",
    "m.update()"
   ]
  },
  {
   "cell_type": "code",
   "execution_count": 15,
   "metadata": {
    "scrolled": true
   },
   "outputs": [],
   "source": [
    "m.addConstrs(Wi[i] >= Zi[i] for i in range(b))\n",
    "m.update()"
   ]
  },
  {
   "cell_type": "code",
   "execution_count": 16,
   "metadata": {},
   "outputs": [],
   "source": [
    "m.addConstrs((Yi[i] + Zi[i]) >= Wi[i] for i in range(b))\n",
    "m.update()"
   ]
  },
  {
   "cell_type": "code",
   "execution_count": 17,
   "metadata": {
    "scrolled": true
   },
   "outputs": [
    {
     "name": "stdout",
     "output_type": "stream",
     "text": [
      "Set parameter NonConvex to value 2\n",
      "Gurobi Optimizer version 9.5.0 build v9.5.0rc5 (win64)\n",
      "Thread count: 4 physical cores, 4 logical processors, using up to 4 threads\n",
      "Optimize a model with 9 rows, 5 columns and 17 nonzeros\n",
      "Model fingerprint: 0xb052ca5f\n",
      "Model has 2 quadratic constraints\n",
      "Variable types: 2 continuous, 3 integer (3 binary)\n",
      "Coefficient statistics:\n",
      "  Matrix range     [1e+00, 1e+06]\n",
      "  QMatrix range    [3e+04, 7e+04]\n",
      "  QLMatrix range   [1e+06, 1e+06]\n",
      "  Objective range  [1e+00, 1e+00]\n",
      "  Bounds range     [1e+00, 1e+00]\n",
      "  RHS range        [7e+02, 1e+06]\n",
      "  QRHS range       [1e+06, 1e+06]\n",
      "Presolve removed 9 rows and 2 columns\n",
      "Presolve time: 0.00s\n",
      "Presolved: 12 rows, 6 columns, 32 nonzeros\n",
      "Presolved model has 3 bilinear constraint(s)\n",
      "Variable types: 5 continuous, 1 integer (1 binary)\n",
      "\n",
      "Root relaxation: infeasible, 5 iterations, 0.00 seconds (0.00 work units)\n",
      "\n",
      "    Nodes    |    Current Node    |     Objective Bounds      |     Work\n",
      " Expl Unexpl |  Obj  Depth IntInf | Incumbent    BestBd   Gap | It/Node Time\n",
      "\n",
      "     0     0 infeasible    0               - infeasible      -     -    0s\n",
      "\n",
      "Explored 1 nodes (5 simplex iterations) in 0.02 seconds (0.00 work units)\n",
      "Thread count was 4 (of 4 available processors)\n",
      "\n",
      "Solution count 0\n",
      "No other solutions better than -1e+100\n",
      "\n",
      "Model is infeasible\n",
      "Best objective -, best bound -, gap -\n"
     ]
    }
   ],
   "source": [
    "m.Params.NonConvex = 2\n",
    "m.optimize()"
   ]
  },
  {
   "cell_type": "code",
   "execution_count": 18,
   "metadata": {},
   "outputs": [
    {
     "name": "stdout",
     "output_type": "stream",
     "text": [
      "<gurobi.Var C1>\n"
     ]
    }
   ],
   "source": [
    "for i in range(b):\n",
    "    print(Yi[i])  "
   ]
  },
  {
   "cell_type": "code",
   "execution_count": 19,
   "metadata": {},
   "outputs": [
    {
     "name": "stdout",
     "output_type": "stream",
     "text": [
      "<gurobi.Var C2>\n"
     ]
    }
   ],
   "source": [
    "for i in range(b):\n",
    "    print(Zi[i])     "
   ]
  },
  {
   "cell_type": "code",
   "execution_count": 20,
   "metadata": {
    "scrolled": false
   },
   "outputs": [
    {
     "name": "stdout",
     "output_type": "stream",
     "text": [
      "<gurobi.Var C3>\n",
      "<gurobi.Var C4>\n"
     ]
    }
   ],
   "source": [
    "for i in range(n):\n",
    "    print(Vi[i])\n"
   ]
  },
  {
   "cell_type": "code",
   "execution_count": 21,
   "metadata": {},
   "outputs": [
    {
     "name": "stdout",
     "output_type": "stream",
     "text": [
      "\n",
      "Computing Irreducible Inconsistent Subsystem (IIS)...\n",
      "\n",
      "           Constraints          |            Bounds           |  Runtime\n",
      "      Min       Max     Guess   |   Min       Max     Guess   |\n",
      "--------------------------------------------------------------------------\n",
      "        0        11         -         0         2         -           0s\n",
      "        3         3         -         1         1         -           0s\n",
      "\n",
      "IIS computed: 3 constraints, 1 bounds\n",
      "IIS runtime: 0.04 seconds (0.00 work units)\n"
     ]
    }
   ],
   "source": [
    "m.computeIIS()\n",
    "m.write(\"model1.ilp\")"
   ]
  },
  {
   "cell_type": "markdown",
   "metadata": {},
   "source": [
    "## HAC"
   ]
  },
  {
   "cell_type": "code",
   "execution_count": 22,
   "metadata": {},
   "outputs": [],
   "source": [
    "HAC = Model(\"HAC\")"
   ]
  },
  {
   "cell_type": "markdown",
   "metadata": {},
   "source": [
    "## Variables"
   ]
  },
  {
   "cell_type": "code",
   "execution_count": 23,
   "metadata": {},
   "outputs": [],
   "source": [
    "theta = HAC.addVars(n, vtype=GRB.CONTINUOUS)\n",
    "yij = HAC.addVars(b, vtype=GRB.BINARY)\n",
    "tij = HAC.addVars(b, vtype=GRB.CONTINUOUS)\n",
    "AngleSum = HAC.addVars(n, vtype=GRB.CONTINUOUS)\n",
    "Cos_AngleSum = HAC.addVars(n, vtype=GRB.CONTINUOUS)\n",
    "Sin_AngleSum = HAC.addVars(n, vtype=GRB.CONTINUOUS)\n",
    "Vri_2 = HAC.addVars(b, vtype=GRB.CONTINUOUS)"
   ]
  },
  {
   "cell_type": "code",
   "execution_count": 24,
   "metadata": {},
   "outputs": [],
   "source": [
    "HAC.setObjective( quicksum(theta[i]**2 for i in range(n)) ,GRB.MINIMIZE )"
   ]
  },
  {
   "cell_type": "markdown",
   "metadata": {},
   "source": [
    "## Constructing elements of Constraints( pre constraint )"
   ]
  },
  {
   "cell_type": "code",
   "execution_count": 25,
   "metadata": {},
   "outputs": [],
   "source": [
    "HAC.addConstrs(AngleSum[i] == (Aircrafts[i][2] +\n",
    "                               theta[i]) for i in range(n))\n",
    "HAC.update()"
   ]
  },
  {
   "cell_type": "code",
   "execution_count": 26,
   "metadata": {},
   "outputs": [],
   "source": [
    "HAC.addGenConstrCos(AngleSum[i], Cos_AngleSum[i])\n",
    "HAC.update()"
   ]
  },
  {
   "cell_type": "code",
   "execution_count": 27,
   "metadata": {},
   "outputs": [],
   "source": [
    "HAC.addGenConstrSin(AngleSum[i], Sin_AngleSum[i])\n",
    "HAC.update()"
   ]
  },
  {
   "cell_type": "code",
   "execution_count": 28,
   "metadata": {},
   "outputs": [],
   "source": [
    "Xi = []\n",
    "for i in range(b):\n",
    "    Xi.append([ Aircrafts[ Aircraft_index_comb[i][0] ][0] - Aircrafts[ Aircraft_index_comb[i][1] ][0] \n",
    "               , Aircrafts[ Aircraft_index_comb[i][0] ][1] - Aircrafts[ Aircraft_index_comb[i][1] ][1] ])"
   ]
  },
  {
   "cell_type": "code",
   "execution_count": 29,
   "metadata": {},
   "outputs": [],
   "source": [
    "try:\n",
    "    Vri = []\n",
    "    for i in range(b):\n",
    "        Vri.append([\n",
    "            Cos_AngleSum[Aircraft_index_comb[i][0]] *\n",
    "            Vi[Aircraft_index_comb[i][0]].x -\n",
    "            Cos_AngleSum[Aircraft_index_comb[i][1]] *\n",
    "            Vi[Aircraft_index_comb[i][1]].x,\n",
    "            Sin_AngleSum[Aircraft_index_comb[i][0]] *\n",
    "            Vi[Aircraft_index_comb[i][0]].x -\n",
    "            Sin_AngleSum[Aircraft_index_comb[i][1]] *\n",
    "            Vi[Aircraft_index_comb[i][1]].x\n",
    "        ])\n",
    "except Exception:\n",
    "    Vi=[]\n",
    "    for i in range(n):\n",
    "        Vi.append(400*1.852)\n",
    "\n",
    "    #### Try to change the speed!!!\n",
    "    Vri = []\n",
    "    for i in range(b):\n",
    "        Vri.append([\n",
    "            Cos_AngleSum[Aircraft_index_comb[i][0]] *\n",
    "            Vi[Aircraft_index_comb[i][0]] -\n",
    "            Cos_AngleSum[Aircraft_index_comb[i][1]] *\n",
    "            Vi[Aircraft_index_comb[i][1]],\n",
    "            Sin_AngleSum[Aircraft_index_comb[i][0]] *\n",
    "            Vi[Aircraft_index_comb[i][0]] -\n",
    "            Sin_AngleSum[Aircraft_index_comb[i][1]] *\n",
    "            Vi[Aircraft_index_comb[i][1]]\n",
    "        ])\n"
   ]
  },
  {
   "cell_type": "code",
   "execution_count": 30,
   "metadata": {},
   "outputs": [
    {
     "data": {
      "text/plain": [
       "'\\nVi=[]\\nfor i in range(n):\\n    Vi.append(400*1.852)\\n\\n\\nVri = []\\nfor i in range(b):\\n    Vri.append([\\n        Cos_AngleSum[Aircraft_index_comb[i][0]] *\\n        Vi[Aircraft_index_comb[i][0]] -\\n        Cos_AngleSum[Aircraft_index_comb[i][1]] *\\n        Vi[Aircraft_index_comb[i][1]],\\n        Sin_AngleSum[Aircraft_index_comb[i][0]] *\\n        Vi[Aircraft_index_comb[i][0]] -\\n        Sin_AngleSum[Aircraft_index_comb[i][1]] *\\n        Vi[Aircraft_index_comb[i][1]]\\n    ])'"
      ]
     },
     "execution_count": 30,
     "metadata": {},
     "output_type": "execute_result"
    }
   ],
   "source": [
    "'''\n",
    "Vi=[]\n",
    "for i in range(n):\n",
    "    Vi.append(400*1.852)\n",
    "\n",
    "\n",
    "Vri = []\n",
    "for i in range(b):\n",
    "    Vri.append([\n",
    "        Cos_AngleSum[Aircraft_index_comb[i][0]] *\n",
    "        Vi[Aircraft_index_comb[i][0]] -\n",
    "        Cos_AngleSum[Aircraft_index_comb[i][1]] *\n",
    "        Vi[Aircraft_index_comb[i][1]],\n",
    "        Sin_AngleSum[Aircraft_index_comb[i][0]] *\n",
    "        Vi[Aircraft_index_comb[i][0]] -\n",
    "        Sin_AngleSum[Aircraft_index_comb[i][1]] *\n",
    "        Vi[Aircraft_index_comb[i][1]]\n",
    "    ])'''"
   ]
  },
  {
   "cell_type": "markdown",
   "metadata": {},
   "source": [
    "## Constraints"
   ]
  },
  {
   "cell_type": "code",
   "execution_count": 31,
   "metadata": {},
   "outputs": [],
   "source": [
    "theta_Max = 30\n",
    "theta_Min = -30\n",
    "HAC.addConstrs(theta[i] <= theta_Max for i in range(n))\n",
    "HAC.addConstrs(theta[i] >= theta_Min for i in range(n))\n",
    "HAC.update()"
   ]
  },
  {
   "cell_type": "code",
   "execution_count": 32,
   "metadata": {},
   "outputs": [],
   "source": [
    "HAC.addConstrs( (Vri[i][0]*Vri[i][0]+Vri[i][1]*Vri[i][1])*( (Xi[i][0]*Xi[i][0]+Xi[i][1]*Xi[i][1])  - d*d ) - (Xi[i][0]*Vri[i][0]+Xi[i][1]*Vri[i][1])*(Xi[i][0]*Vri[i][0]+Xi[i][1]*Vri[i][1]) <= 10000*yij[i] for i in range(b) )\n",
    "HAC.update()"
   ]
  },
  {
   "cell_type": "code",
   "execution_count": 33,
   "metadata": {},
   "outputs": [],
   "source": [
    "HAC.addConstrs( (Vri[i][0]*Vri[i][0]+Vri[i][1]*Vri[i][1])*( (Xi[i][0]*Xi[i][0]+Xi[i][1]*Xi[i][1])  - d*d ) - (Xi[i][0]*Vri[i][0]+Xi[i][1]*Vri[i][1])*(Xi[i][0]*Vri[i][0]+Xi[i][1]*Vri[i][1]) >= 10000*(yij[i]-1) for i in range(b) )\n",
    "HAC.update()"
   ]
  },
  {
   "cell_type": "code",
   "execution_count": 34,
   "metadata": {},
   "outputs": [],
   "source": [
    "HAC.addConstrs(Vri_2[i] == Vri[i][0]*Vri[i][0]+Vri[i][1]*Vri[i][1] for i in range(b))\n",
    "HAC.update()"
   ]
  },
  {
   "cell_type": "code",
   "execution_count": 35,
   "metadata": {
    "scrolled": true
   },
   "outputs": [],
   "source": [
    "HAC.addConstrs(-1*(Xi[i][0]*Vri[i][0]+Xi[i][1]*Vri[i][1]) <= 10000*yij[i]*Vri_2[i]  for i in range(b))\n",
    "HAC.update()"
   ]
  },
  {
   "cell_type": "code",
   "execution_count": 36,
   "metadata": {},
   "outputs": [],
   "source": [
    "HAC.addConstrs(-1*(Xi[i][0]*Vri[i][0]+Xi[i][1]*Vri[i][1]) >= 10000*(yij[i]-1)*Vri_2[i] for i in range(b))\n",
    "HAC.update()"
   ]
  },
  {
   "cell_type": "code",
   "execution_count": 37,
   "metadata": {},
   "outputs": [
    {
     "name": "stdout",
     "output_type": "stream",
     "text": [
      "Set parameter NonConvex to value 2\n"
     ]
    }
   ],
   "source": [
    "HAC.params.NonConvex = 2"
   ]
  },
  {
   "cell_type": "code",
   "execution_count": 38,
   "metadata": {},
   "outputs": [
    {
     "name": "stdout",
     "output_type": "stream",
     "text": [
      "Gurobi Optimizer version 9.5.0 build v9.5.0rc5 (win64)\n",
      "Thread count: 4 physical cores, 4 logical processors, using up to 4 threads\n",
      "Optimize a model with 6 rows, 11 columns and 8 nonzeros\n",
      "Model fingerprint: 0x2923fff2\n",
      "Model has 2 quadratic objective terms\n",
      "Model has 5 quadratic constraints\n",
      "Model has 2 general constraints\n",
      "Variable types: 10 continuous, 1 integer (1 binary)\n",
      "Coefficient statistics:\n",
      "  Matrix range     [1e+00, 1e+00]\n",
      "  QMatrix range    [1e+04, 7e+10]\n",
      "  QLMatrix range   [1e+00, 2e+05]\n",
      "  Objective range  [0e+00, 0e+00]\n",
      "  QObjective range [2e+00, 2e+00]\n",
      "  Bounds range     [1e+00, 1e+00]\n",
      "  RHS range        [3e+01, 1e+02]\n",
      "  QRHS range       [1e+04, 1e+04]\n",
      "Warning: Quadratic constraints contain large coefficients\n",
      "         Consider reformulating model or setting NumericFocus parameter\n",
      "         to avoid numerical issues.\n",
      "Presolve added 38 rows and 625 columns\n",
      "Presolve time: 0.02s\n",
      "Presolved: 71 rows, 646 columns, 10811 nonzeros\n",
      "Presolved model has 2 SOS constraint(s)\n",
      "Presolved model has 1 quadratic objective terms\n",
      "Presolved model has 6 bilinear constraint(s)\n",
      "Variable types: 624 continuous, 22 integer (6 binary)\n",
      "\n",
      "Root relaxation: objective 1.610030e+01, 44 iterations, 0.00 seconds (0.00 work units)\n",
      "\n",
      "    Nodes    |    Current Node    |     Objective Bounds      |     Work\n",
      " Expl Unexpl |  Obj  Depth IntInf | Incumbent    BestBd   Gap | It/Node Time\n",
      "\n",
      "     0     0   16.10030    0   12          -   16.10030      -     -    0s\n",
      "     0     0   18.26170    0   12          -   18.26170      -     -    0s\n",
      "     0     0   18.26170    0   19          -   18.26170      -     -    0s\n",
      "     0     0   18.26170    0   19          -   18.26170      -     -    0s\n",
      "     0     0   18.26170    0   20          -   18.26170      -     -    0s\n",
      "     0     2   18.26170    0   20          -   18.26170      -     -    0s\n",
      "*   48    37              10      10.4333959   10.43340  0.00%  92.9    0s\n",
      "\n",
      "Cutting planes:\n",
      "  MIR: 4\n",
      "  Flow cover: 1\n",
      "  RLT: 1\n",
      "\n",
      "Explored 58 nodes (4763 simplex iterations) in 0.53 seconds (0.22 work units)\n",
      "Thread count was 4 (of 4 available processors)\n",
      "\n",
      "Solution count 1: 10.4334 \n",
      "\n",
      "Optimal solution found (tolerance 1.00e-04)\n",
      "Best objective 1.043339586225e+01, best bound 1.043339586225e+01, gap 0.0000%\n"
     ]
    }
   ],
   "source": [
    "HAC.optimize()"
   ]
  },
  {
   "cell_type": "code",
   "execution_count": 39,
   "metadata": {},
   "outputs": [
    {
     "name": "stdout",
     "output_type": "stream",
     "text": [
      "<gurobi.Var C0 (value 0.0)>\n",
      "<gurobi.Var C1 (value 3.230076757950883)>\n"
     ]
    }
   ],
   "source": [
    "for i in range(n):\n",
    "    print(theta[i])"
   ]
  },
  {
   "cell_type": "code",
   "execution_count": null,
   "metadata": {},
   "outputs": [],
   "source": []
  }
 ],
 "metadata": {
  "kernelspec": {
   "display_name": "Python 3",
   "language": "python",
   "name": "python3"
  },
  "language_info": {
   "codemirror_mode": {
    "name": "ipython",
    "version": 3
   },
   "file_extension": ".py",
   "mimetype": "text/x-python",
   "name": "python",
   "nbconvert_exporter": "python",
   "pygments_lexer": "ipython3",
   "version": "3.7.6"
  }
 },
 "nbformat": 4,
 "nbformat_minor": 4
}
