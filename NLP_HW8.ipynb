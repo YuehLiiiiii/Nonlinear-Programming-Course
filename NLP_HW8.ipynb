{
 "cells": [
  {
   "cell_type": "markdown",
   "metadata": {},
   "source": [
    "# 1."
   ]
  },
  {
   "cell_type": "markdown",
   "metadata": {},
   "source": [
    "## (a)"
   ]
  },
  {
   "cell_type": "code",
   "execution_count": 1,
   "metadata": {},
   "outputs": [],
   "source": [
    "# Parameter\n",
    "beta = 2 \n",
    "ε = 0.03\n",
    "mu = []"
   ]
  },
  {
   "cell_type": "code",
   "execution_count": 2,
   "metadata": {},
   "outputs": [],
   "source": [
    "def number_of_iteration():\n",
    "    a = -100\n",
    "    b = 100\n",
    "    l = 0.00001\n",
    "    for k in range(1,100):\n",
    "        if 0.5**k <= l/(b-a):\n",
    "            n = k\n",
    "            break\n",
    "    return n"
   ]
  },
  {
   "cell_type": "code",
   "execution_count": 3,
   "metadata": {},
   "outputs": [],
   "source": [
    "def foc_theta(x1,x2,d1,d2,λ,m):\n",
    "    return 2*d1*(x1+λ*d1) + 8*d2*(x2+λ*d2) - 8*d1 - 16*d2 + 2*m*((d1+d2)*max(0,x1+λ*d1+x2+λ*d2-5)+d1*max(0,x1+λ*d1-3)-d1*max(0,-x1-λ*d1)-d2*max(0,-x2-λ*d2))"
   ]
  },
  {
   "cell_type": "code",
   "execution_count": 4,
   "metadata": {},
   "outputs": [],
   "source": [
    "def alpha(x1,x2):\n",
    "    return ( max(0, x1 + x2 - 5) + max(0, x1 - 3) + max(0, -x1) + \n",
    "                 max(0, -x2) )**2 "
   ]
  },
  {
   "cell_type": "code",
   "execution_count": 5,
   "metadata": {},
   "outputs": [],
   "source": [
    "def obj_value(x1,x2):\n",
    "    return x1**2 + 4*x2**2 - 8*x1 - 16*x2"
   ]
  },
  {
   "cell_type": "code",
   "execution_count": 6,
   "metadata": {},
   "outputs": [
    {
     "name": "stdout",
     "output_type": "stream",
     "text": [
      "Iteration:0\n",
      "x:[3.6551692485809326, 1.8275846242904663]\tpenalty:0.6474345151679088\n",
      "Iteration:1\n",
      "x:[3.3546375785776092, 1.9059894834466888]\tpenalty:0.3785505779749942\n",
      "Iteration:2\n",
      "x:[3.256994762036528, 1.881758934354988]\tpenalty:0.3132336846963468\n",
      "Iteration:3\n",
      "x:[3.1709742681503044, 1.8733564077652203]\tpenalty:0.18542487575675942\n",
      "Iteration:4\n",
      "x:[3.1024234661961887, 1.8850137740581074]\tpenalty:0.08392453142113447\n",
      "Iteration:5\n",
      "x:[3.0470540525150023, 1.9193728088283515]\tpenalty:0.03542534172935347\n",
      "Iteration:6\n",
      "x:[3.025489273635999, 1.9319542756514154]\tf(x) = -31.031807961793014\t"
     ]
    }
   ],
   "source": [
    "for k in range(10):\n",
    "    if k==0:\n",
    "        x = [4,2] \n",
    "        d = [0,0]\n",
    "        mu.append(0.5) \n",
    "        \n",
    "    # Calculate direction\n",
    "    d[0] = -(2*x[0] - 8 + 2*mu[k]*( max(0,x[0]+x[1]-5) + max(0,x[0]-3) - max(0,-x[0]) ))\n",
    "    d[1] = -(8*x[1] - 16 + 2*mu[k]*( max(0,x[0]+x[1]-5) - max(0,-x[1]) ))\n",
    "    \n",
    "    # Calculate Lambda\n",
    "    n = number_of_iteration()\n",
    "    for j in range(n):\n",
    "        if j==0:\n",
    "            a = -100\n",
    "            b = 100\n",
    "        λ = 0.5 * (a + b)\n",
    "        if foc_theta(x[0],x[1],d[0],d[1],λ,mu[k]) == 0:\n",
    "            break\n",
    "        elif foc_theta(x[0],x[1],d[0],d[1],λ,mu[k]) > 0:\n",
    "            b = λ\n",
    "        else:\n",
    "            a = λ\n",
    "        if j==n-1:      \n",
    "            optimal_λ = 0.5*(a+b)\n",
    "            break   \n",
    "            \n",
    "    # Update x\n",
    "\n",
    "    x[0] = x[0] + optimal_λ * d[0]\n",
    "    x[1] = x[1] + optimal_λ * d[1] \n",
    "    \n",
    "\n",
    "    # Stop criteria        \n",
    "            \n",
    "    penalty = mu[k] * alpha(x[0],x[1])\n",
    "    if penalty < ε:\n",
    "        print(f'Iteration:{k}')\n",
    "        print(f'x:{x}',end='\\t')\n",
    "        print(f'f(x) = {obj_value(x[0],x[1])}',end='\\t')\n",
    "        break\n",
    "    else:\n",
    "        mu.append(mu[k]*beta)\n",
    "        print(f'Iteration:{k}')\n",
    "        print(f'x:{x}',end='\\t')\n",
    "        print(f'penalty:{penalty}')\n",
    "   "
   ]
  },
  {
   "cell_type": "markdown",
   "metadata": {},
   "source": [
    "## (b)"
   ]
  },
  {
   "cell_type": "code",
   "execution_count": 7,
   "metadata": {},
   "outputs": [],
   "source": [
    "def barrier(x1,x2):\n",
    "    value = (-1/(x1+x2-5) - 1/(x1-3) - 1/(-x1) - 1/(-x2))\n",
    "    return value"
   ]
  },
  {
   "cell_type": "code",
   "execution_count": 22,
   "metadata": {},
   "outputs": [],
   "source": [
    "def foc_theta_b(x1,x2,d1,d2,λ,m):\n",
    "    return 2*d1*(x1+λ*d1) + 8*d2*(x2+λ*d2) - 8*d1 - 16*d2 + 2*m*( (d1+d2)/((x1+λ*d1+x2+λ*d2-5)**2) + d1/((x1+λ*d1-3)**2) - d1/((-x1-λ*d1)**2) - d2/((-x2-λ*d2)**2) )\n",
    "    "
   ]
  },
  {
   "cell_type": "code",
   "execution_count": 23,
   "metadata": {},
   "outputs": [
    {
     "name": "stdout",
     "output_type": "stream",
     "text": [
      "Iteration:0\tx:[1.5593233638339572, 1.7606797748141818]\tpenalty:19.988989974288575\n",
      "f(x) = -25.814000876941247\n",
      "Iteration:1\tx:[1.6570465725400156, 1.8155807667918202]\tpenalty:10.21447124117677\n",
      "f(x) = -26.37452742244514\n",
      "Iteration:2\tx:[1.8374819925106387, 1.879673090221516]\tpenalty:5.431899207783314\n",
      "f(x) = -27.265601606416887\n",
      "Iteration:3\tx:[2.0601855960692745, 1.9230760574649979]\tpenalty:3.052970483104267\n",
      "f(x) = -28.21345090656237\n",
      "Iteration:4\tx:[2.2770192825135664, 1.9427109006981231]\tpenalty:1.8093429821865163\n",
      "f(x) = -29.018209283574652\n",
      "Iteration:5\tx:[2.4576711013651447, 1.9506104820849786]\tpenalty:1.113360460875222\n",
      "f(x) = -29.61146427051628\n",
      "Iteration:6\tx:[2.5991653888837543, 1.9549319669673189]\tpenalty:0.7042127733485578\n",
      "f(x) = -30.029537881893056\n",
      "Iteration:7\tpenalty:0.45564829486218184\tOptimal solution:x:[2.7075328528627325, 1.9581485602245539] ,f(x) = -30.322522501525743\n"
     ]
    }
   ],
   "source": [
    "mu_b = []\n",
    "for p in range(20):\n",
    "    if p==0:\n",
    "        x = [1,1] \n",
    "        d = [0,0]\n",
    "        mu_b.append(8) \n",
    "        \n",
    "    # Calculate direction\n",
    "    d[0] = -( 2*x[0] - 8 + mu_b[p]*(( 1/((x[0]+x[1]-5)**2) + 1/((x[0]-3)**2) - (1/((-x[0])**2)) )) )\n",
    "    d[1] = -( 8*x[1] - 16 + mu_b[p]*( 1/((x[0]+x[1]-5)**2) - (1/((-x[1])**2)) ) )\n",
    "    \n",
    "    # Calculate Lambda\n",
    "    n = number_of_iteration()\n",
    "    for j in range(n):\n",
    "        if j==0:\n",
    "            a = -100\n",
    "            b = 100\n",
    "        λ = 0.5 * (a + b)\n",
    "        if foc_theta_b(x[0],x[1],d[0],d[1],λ,mu_b[p]) == 0:\n",
    "            break\n",
    "        elif foc_theta_b(x[0],x[1],d[0],d[1],λ,mu_b[p]) > 0:\n",
    "            b = λ\n",
    "        else:\n",
    "            a = λ\n",
    "        if j==n-1:      \n",
    "            optimal_λ = 0.5*(a+b)\n",
    "            break   \n",
    "            \n",
    "    # Update x\n",
    "\n",
    "    x[0] = x[0] + optimal_λ * d[0]\n",
    "    x[1] = x[1] + optimal_λ * d[1] \n",
    "    \n",
    "\n",
    "    # Stop criteria        \n",
    "            \n",
    "    penalty = mu_b[p] * barrier(x[0],x[1])\n",
    "    \n",
    "    if penalty < 0.6:\n",
    "        print(f'Iteration:{p}',end='\\t')\n",
    "        print(f'penalty:{penalty}',end='\\t')\n",
    "        print(f'Optimal solution:x:{x} ,f(x) = {obj_value(x[0],x[1])}')\n",
    "        break\n",
    "    else:\n",
    "        mu_b.append(mu_b[p]*0.5)\n",
    "        print(f'Iteration:{p}',end='\\t')\n",
    "        print(f'x:{x}',end='\\t')\n",
    "        print(f'penalty:{penalty}')\n",
    "        print(f'f(x) = {obj_value(x[0],x[1])}')"
   ]
  },
  {
   "cell_type": "code",
   "execution_count": null,
   "metadata": {},
   "outputs": [],
   "source": []
  }
 ],
 "metadata": {
  "kernelspec": {
   "display_name": "Python 3",
   "language": "python",
   "name": "python3"
  },
  "language_info": {
   "codemirror_mode": {
    "name": "ipython",
    "version": 3
   },
   "file_extension": ".py",
   "mimetype": "text/x-python",
   "name": "python",
   "nbconvert_exporter": "python",
   "pygments_lexer": "ipython3",
   "version": "3.7.6"
  }
 },
 "nbformat": 4,
 "nbformat_minor": 4
}
