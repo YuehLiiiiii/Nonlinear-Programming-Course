{
 "cells": [
  {
   "cell_type": "markdown",
   "metadata": {},
   "source": [
    "# HW7"
   ]
  },
  {
   "cell_type": "code",
   "execution_count": 1,
   "metadata": {},
   "outputs": [],
   "source": [
    "from math import e\n",
    "from math import sqrt"
   ]
  },
  {
   "cell_type": "markdown",
   "metadata": {},
   "source": [
    "## 1."
   ]
  },
  {
   "cell_type": "code",
   "execution_count": 2,
   "metadata": {},
   "outputs": [],
   "source": [
    "a = 0\n",
    "b = 5\n",
    "l = 0.01\n",
    "error = 0.001"
   ]
  },
  {
   "cell_type": "code",
   "execution_count": 3,
   "metadata": {},
   "outputs": [],
   "source": [
    "def obj(x):\n",
    "    value = 6*(e**(-2*x)) + 2*(x**2)\n",
    "    return value"
   ]
  },
  {
   "cell_type": "code",
   "execution_count": 4,
   "metadata": {},
   "outputs": [
    {
     "name": "stdout",
     "output_type": "stream",
     "text": [
      "Iteration : 0\n",
      "(a,b):(0, 2.501)\n",
      "Gap:5\n",
      "Iteration : 1\n",
      "(a,b):(0, 1.2514999999999998)\n",
      "Gap:2.501\n",
      "Iteration : 2\n",
      "(a,b):(0.6247499999999999, 1.2514999999999998)\n",
      "Gap:1.2514999999999998\n",
      "Iteration : 3\n",
      "(a,b):(0.6247499999999999, 0.9391249999999999)\n",
      "Gap:0.6267499999999999\n",
      "Iteration : 4\n",
      "(a,b):(0.6247499999999999, 0.7829375)\n",
      "Gap:0.31437499999999996\n",
      "Iteration : 5\n",
      "(a,b):(0.7028437499999999, 0.7829375)\n",
      "Gap:0.15818750000000004\n",
      "Iteration : 6\n",
      "(a,b):(0.7028437499999999, 0.7438906249999999)\n",
      "Gap:0.08009375000000007\n",
      "Iteration : 7\n",
      "(a,b):(0.7028437499999999, 0.7243671874999998)\n",
      "Gap:0.04104687500000004\n",
      "Iteration : 8\n",
      "(a,b):(0.7126054687499999, 0.7243671874999998)\n",
      "Gap:0.021523437499999964\n",
      "Iteration : 9\n",
      "(a,b):(0.7126054687499999, 0.7194863281249998)\n",
      "Gap:0.011761718749999983\n"
     ]
    }
   ],
   "source": [
    "for i in range(100):  \n",
    "    gap = b-a\n",
    "    if b-a > l:\n",
    "        da = (a+b)/2 - error\n",
    "        mu = (a+b)/2 + error\n",
    "        if obj(da) < obj(mu):\n",
    "            b=mu\n",
    "            a=a\n",
    "        elif obj(da) > obj(mu):\n",
    "            a=da\n",
    "            b=b\n",
    "    if gap == b-a:\n",
    "        break    \n",
    "    print(f'Iteration : {i}')\n",
    "    print(f'(a,b):{a,b}')      \n",
    "    print(f'Gap:{gap}')"
   ]
  },
  {
   "cell_type": "markdown",
   "metadata": {},
   "source": [
    "## 2."
   ]
  },
  {
   "cell_type": "markdown",
   "metadata": {},
   "source": [
    "### a."
   ]
  },
  {
   "cell_type": "markdown",
   "metadata": {},
   "source": [
    "## Theta(λ) = [( x1+λd1 )+( x2+λd2 )^3]^2+2[ x1+λd1-x2-λd2-4 ]^4"
   ]
  },
  {
   "cell_type": "markdown",
   "metadata": {},
   "source": [
    "### b."
   ]
  },
  {
   "cell_type": "code",
   "execution_count": 5,
   "metadata": {},
   "outputs": [],
   "source": [
    "a_2 = 0\n",
    "b_2 = 5\n",
    "l_2 = 0.01\n",
    "error_2 = 0.001"
   ]
  },
  {
   "cell_type": "code",
   "execution_count": 6,
   "metadata": {},
   "outputs": [
    {
     "name": "stdout",
     "output_type": "stream",
     "text": [
      "14\n"
     ]
    }
   ],
   "source": [
    "# choose the number of observations n\n",
    "for i in range(2,100):\n",
    "    n1, n2 = 0, 1\n",
    "    count = 0\n",
    "    while count < i:\n",
    "        nth = n1 + n2\n",
    "        n1 = n2\n",
    "        n2 = nth\n",
    "        count += 1\n",
    "    if nth > (b_2-a_2)/l_2:\n",
    "        n = i\n",
    "        break\n",
    "print(n)    "
   ]
  },
  {
   "cell_type": "code",
   "execution_count": 7,
   "metadata": {},
   "outputs": [],
   "source": [
    "# F0=F1=1\n",
    "def Fabonacci(number):\n",
    "    if number == 0:\n",
    "        return 1\n",
    "    else:\n",
    "        n1, n2 = 0, 1\n",
    "        count = 0\n",
    "        while count < number:\n",
    "            nth = n1 + n2\n",
    "           # update values\n",
    "            n1 = n2\n",
    "            n2 = nth\n",
    "            count += 1\n",
    "        return nth"
   ]
  },
  {
   "cell_type": "code",
   "execution_count": 8,
   "metadata": {},
   "outputs": [],
   "source": [
    "# x=(0,0) ； d=(1,1)\n",
    "def f_function(lambda_):\n",
    "    value = (lambda_+lambda_**3)**2 + 2*(lambda_-lambda_-4)**4\n",
    "    return value"
   ]
  },
  {
   "cell_type": "code",
   "execution_count": 9,
   "metadata": {},
   "outputs": [
    {
     "name": "stdout",
     "output_type": "stream",
     "text": [
      "Iteration : 0\n",
      "(a,b):(0, 5)\n",
      "(lambda,mu):(1.9098360655737707, 3.0901639344262293)\n",
      "Iteration : 1\n",
      "(a,b):(0, 3.0901639344262293)\n",
      "(lambda,mu):(1.1803278688524588, 1.9098360655737707)\n",
      "Iteration : 2\n",
      "(a,b):(0, 1.9098360655737707)\n",
      "(lambda,mu):(0.7295081967213116, 1.1803278688524588)\n",
      "Iteration : 3\n",
      "(a,b):(0, 1.1803278688524588)\n",
      "(lambda,mu):(0.45081967213114743, 0.7295081967213116)\n",
      "Iteration : 4\n",
      "(a,b):(0, 0.7295081967213116)\n",
      "(lambda,mu):(0.27868852459016397, 0.45081967213114743)\n",
      "Iteration : 5\n",
      "(a,b):(0, 0.45081967213114743)\n",
      "(lambda,mu):(0.17213114754098358, 0.27868852459016397)\n",
      "Iteration : 6\n",
      "(a,b):(0, 0.27868852459016397)\n",
      "(lambda,mu):(0.10655737704918034, 0.17213114754098358)\n",
      "Iteration : 7\n",
      "(a,b):(0, 0.17213114754098358)\n",
      "(lambda,mu):(0.06557377049180327, 0.10655737704918034)\n",
      "Iteration : 8\n",
      "(a,b):(0, 0.10655737704918034)\n",
      "(lambda,mu):(0.04098360655737705, 0.06557377049180327)\n",
      "Iteration : 9\n",
      "(a,b):(0, 0.06557377049180327)\n",
      "(lambda,mu):(0.024590163934426226, 0.04098360655737705)\n",
      "Iteration : 10\n",
      "(a,b):(0, 0.04098360655737705)\n",
      "(lambda,mu):(0.01639344262295082, 0.024590163934426226)\n",
      "Iteration : 11\n",
      "(a,b):(0, 0.024590163934426226)\n",
      "(lambda,mu):(0.008196721311475409, 0.01639344262295082)\n",
      "Iteration : 12\n",
      "(a,b):(0, 0.01639344262295082)\n",
      "(lambda,mu):(0.00819672131147541, 0.008196721311475409)\n",
      "Iteration : 13\n",
      "(a,b):(0, 0.01639344262295082)\n",
      "(lambda,mu):(0.00819672131147541, 0.008196721311475409)\n"
     ]
    }
   ],
   "source": [
    "for i in range(n):\n",
    "    if b_2-a_2 > l:\n",
    "        if i == 0:\n",
    "            da_=a_2 + (Fabonacci(n-2)/Fabonacci(n))*(b_2-a_2)\n",
    "            mu_=a_2 + (Fabonacci(n-1)/Fabonacci(n))*(b_2-a_2)\n",
    "        elif i != (n-2 & 0):            \n",
    "            if f_function(da_) > f_function(mu_):\n",
    "                a_2 = da_\n",
    "                da_ = mu_\n",
    "                mu_ = a_2 + (Fabonacci(n-i-1)/Fabonacci(n-i))*(b_2-a_2)\n",
    "            elif f_function(da_) < f_function(mu_):\n",
    "                b_2 = mu_\n",
    "                mu_=da_\n",
    "                da_=a_2 + (Fabonacci(n-i-2)/Fabonacci(n-i))*(b_2-a_2)\n",
    "        else:\n",
    "            mu_=da_ + error_2\n",
    "            if f_function(da_) > f_function(mu_):\n",
    "                a_2 = da_\n",
    "            elif f_function(da_) < f_function(mu_):\n",
    "                b_2 = da_\n",
    "            break\n",
    "    print(f'Iteration : {i}')\n",
    "    print(f'(a,b):{a_2,b_2}')\n",
    "    print(f'(lambda,mu):{da_,mu_}')"
   ]
  },
  {
   "cell_type": "markdown",
   "metadata": {},
   "source": [
    "## c."
   ]
  },
  {
   "cell_type": "code",
   "execution_count": 10,
   "metadata": {},
   "outputs": [],
   "source": [
    "# x=(5,4) ； d=(-2,1)\n",
    "def f_function_c(lambda_):\n",
    "    value = ((5-2*lambda_)+(4+lambda_)**3)**2 + 2*((5-2*lambda_)-(4+lambda_)-4)**4\n",
    "    return value"
   ]
  },
  {
   "cell_type": "code",
   "execution_count": 11,
   "metadata": {},
   "outputs": [],
   "source": [
    "a_g = -2\n",
    "b_g = 2\n",
    "l_g = 0.01\n",
    "alpha = 0.618"
   ]
  },
  {
   "cell_type": "code",
   "execution_count": 12,
   "metadata": {},
   "outputs": [
    {
     "name": "stdout",
     "output_type": "stream",
     "text": [
      "Iteration : 0\n",
      "(a,b):(-2, 2)\t(lambda,mu):(-0.472, 0.472)\n",
      "Iteration : 1\n",
      "(a,b):(-2, 0.472)\t(lambda,mu):(-1.055696, -0.472)\n",
      "Iteration : 2\n",
      "(a,b):(-2, -0.472)\t(lambda,mu):(-1.416304, -1.055696)\n",
      "Iteration : 3\n",
      "(a,b):(-2, -1.055696)\t(lambda,mu):(-1.639275872, -1.416304)\n",
      "Iteration : 4\n",
      "(a,b):(-2, -1.416304)\t(lambda,mu):(-1.777028128, -1.639275872)\n",
      "Iteration : 5\n",
      "(a,b):(-2, -1.639275872)\t(lambda,mu):(-1.8622033831040001, -1.777028128)\n",
      "Iteration : 6\n",
      "(a,b):(-2, -1.777028128)\t(lambda,mu):(-1.9148247448959999, -1.8622033831040001)\n",
      "Iteration : 7\n",
      "(a,b):(-1.9148247448959999, -1.777028128)\t(lambda,mu):(-1.8622033831040001, -1.8296664356542718)\n",
      "Iteration : 8\n",
      "(a,b):(-1.9148247448959999, -1.8296664356542718)\t(lambda,mu):(-1.8822942707656598, -1.8622033831040001)\n",
      "Iteration : 9\n",
      "(a,b):(-1.8822942707656598, -1.8296664356542718)\t(lambda,mu):(-1.8622033831040001, -1.849770268666822)\n",
      "Iteration : 10\n",
      "(a,b):(-1.8822942707656598, -1.849770268666822)\t(lambda,mu):(-1.8698701019639037, -1.8622033831040001)\n",
      "Iteration : 11\n",
      "(a,b):(-1.8822942707656598, -1.8622033831040001)\t(lambda,mu):(-1.8746195516789057, -1.8698701019639037)\n",
      "Iteration : 12\n",
      "(a,b):(-1.8746195516789057, -1.8622033831040001)\t(lambda,mu):(-1.8698701019639037, -1.866946359499614)\n",
      "Iteration : 13\n",
      "(a,b):(-1.8746195516789057, -1.866946359499614)\t(lambda,mu):(-1.8716883922664165, -1.8698701019639037)\n"
     ]
    }
   ],
   "source": [
    "for k in range(100):\n",
    "    gap = (b_g - a_g)\n",
    "    if b_g - a_g > l_g:        \n",
    "        if k == 0:\n",
    "            da_g = a_g + (1-alpha)*(b_g-a_g)\n",
    "            mu_g = a_g + alpha*(b_g-a_g)\n",
    "        else:\n",
    "            if f_function_c(da_g) > f_function_c(mu_g):\n",
    "                a_g = da_g\n",
    "                da_g = mu_g\n",
    "                mu_g = (1-alpha)*a_g + alpha*b_g\n",
    "                \n",
    "            elif f_function_c(da_g) < f_function_c(mu_g):\n",
    "                b_g = mu_g\n",
    "                mu_g = da_g\n",
    "                da_g = alpha*a_g + (1-alpha)*b_g    \n",
    "    if k!=0:\n",
    "        if gap == (b_g - a_g):\n",
    "            break\n",
    "    print(f'Iteration : {k}')\n",
    "    print(f'(a,b):{a_g,b_g}',end=\"\\t\")  \n",
    "    print(f'(lambda,mu):{da_g,mu_g}')"
   ]
  },
  {
   "cell_type": "markdown",
   "metadata": {},
   "source": [
    "# 3."
   ]
  },
  {
   "cell_type": "markdown",
   "metadata": {},
   "source": [
    "## a."
   ]
  },
  {
   "cell_type": "code",
   "execution_count": 13,
   "metadata": {},
   "outputs": [],
   "source": [
    "a=0\n",
    "b=5\n",
    "l = 0.01\n",
    "ε = 0.001\n",
    "N_da=[]"
   ]
  },
  {
   "cell_type": "code",
   "execution_count": 14,
   "metadata": {},
   "outputs": [],
   "source": [
    "from sympy import *\n",
    "x = Symbol('x')\n",
    "f = 6*e**(-2*x)+2*x**2\n",
    "f_prime = f.diff(x)\n",
    "g = f_prime\n",
    "g_prime = g.diff(x)\n",
    "f = lambdify(x, f)\n",
    "f_prime = lambdify(x, f_prime)\n",
    "g_prime = lambdify(x, g_prime)"
   ]
  },
  {
   "cell_type": "code",
   "execution_count": 15,
   "metadata": {},
   "outputs": [
    {
     "name": "stdout",
     "output_type": "stream",
     "text": [
      "Iteration : 0\n",
      "λ:1\tθ'(λ) : 2.3759766011606533\tθ''(λ) : 7.248046797678693\n",
      "Iteration : 1\n",
      "λ:0.6721907753242433\tθ'(λ) : -0.4396475584131778\tθ''(λ) : 10.256821319420302\n",
      "Iteration : 2\n",
      "λ:0.7150546943417997\tθ'(λ) : -0.011174174482744714\tθ''(λ) : 9.742785903699886\n",
      "Iteration : 3\n",
      "λ:0.7162016121323775\tθ'(λ) : -7.548405132951075e-06\tθ''(λ) : 9.729627993869286\n",
      "Iteration : 4\n",
      "λ:0.716202387948795\tθ'(λ) : -3.4487968036955863e-12\tθ''(λ) : 9.729619103597258\n"
     ]
    }
   ],
   "source": [
    "for k in range(100):\n",
    "    if k==0:\n",
    "        N_da.append(1)\n",
    "    else:\n",
    "        N_da.append(N_da[k-1] - ( f_prime(N_da[k-1])/g_prime(N_da[k-1]) ))\n",
    "        if abs(N_da[k]-N_da[k-1]) < ε:\n",
    "            print(f'Iteration : {k}')\n",
    "            print(f'λ:{N_da[k]}',end=\"\\t\")\n",
    "            print(f\"θ'(λ) : {f_prime(N_da[k])}\",end=\"\\t\")\n",
    "            print(f\"θ''(λ) : {g_prime(N_da[k])}\")\n",
    "            break               \n",
    "    print(f'Iteration : {k}')\n",
    "    print(f'λ:{N_da[k]}',end=\"\\t\")\n",
    "    print(f\"θ'(λ) : {f_prime(N_da[k])}\",end=\"\\t\")\n",
    "    print(f\"θ''(λ) : {g_prime(N_da[k])}\")\n",
    "    "
   ]
  },
  {
   "cell_type": "markdown",
   "metadata": {},
   "source": [
    "## b."
   ]
  },
  {
   "cell_type": "code",
   "execution_count": 24,
   "metadata": {},
   "outputs": [],
   "source": [
    "a=0\n",
    "b=5\n",
    "l = 0.01\n",
    "ε = 0.001\n",
    "da = 1"
   ]
  },
  {
   "cell_type": "code",
   "execution_count": 25,
   "metadata": {},
   "outputs": [
    {
     "name": "stdout",
     "output_type": "stream",
     "text": [
      "9\n"
     ]
    }
   ],
   "source": [
    "for k in range(1,100):\n",
    "    if 0.5**k <= l/(b-a):\n",
    "        n=k\n",
    "        break\n",
    "print(n)"
   ]
  },
  {
   "cell_type": "code",
   "execution_count": 26,
   "metadata": {},
   "outputs": [
    {
     "name": "stdout",
     "output_type": "stream",
     "text": [
      "Iteration : 0\n",
      "(a,b):(0, 2.5)\tλ:2.5\tθ'(λ) : 9.919144636010975\n",
      "Iteration : 1\n",
      "(a,b):(0, 1.25)\tλ:1.25\tθ'(λ) : 4.014980016513219\n",
      "Iteration : 2\n",
      "(a,b):(0.625, 1.25)\tλ:0.625\tθ'(λ) : -0.9380575623222738\n",
      "Iteration : 3\n",
      "(a,b):(0.625, 0.9375)\tλ:0.9375\tθ'(λ) : 1.9097403978608645\n",
      "Iteration : 4\n",
      "(a,b):(0.625, 0.78125)\tλ:0.78125\tθ'(λ) : 0.609663354186833\n",
      "Iteration : 5\n",
      "(a,b):(0.703125, 0.78125)\tλ:0.703125\tθ'(λ) : -0.1282264709463039\n",
      "Iteration : 6\n",
      "(a,b):(0.703125, 0.7421875)\tλ:0.7421875\tθ'(λ) : 0.2490226133518334\n",
      "Iteration : 7\n",
      "(a,b):(0.703125, 0.72265625)\tλ:0.72265625\tθ'(λ) : 0.06255599099864995\n",
      "Iteration : 8\n",
      "(a,b):(0.712890625, 0.72265625)\t"
     ]
    }
   ],
   "source": [
    "for k in range(n):\n",
    "    da = 0.5*(a+b)\n",
    "    if f_prime(da) == 0:\n",
    "        break\n",
    "    elif f_prime(da) > 0:\n",
    "        b = da\n",
    "    else:\n",
    "        a = da\n",
    "    if k==n-1:\n",
    "        print(f'Iteration : {k}')\n",
    "        print(f'(a,b):{a,b}',end=\"\\t\")\n",
    "        break    \n",
    "    print(f'Iteration : {k}')\n",
    "    print(f'(a,b):{a,b}',end=\"\\t\")  \n",
    "    print(f'λ:{da}',end=\"\\t\")\n",
    "    print(f\"θ'(λ) : {f_prime(da)}\")\n",
    "        \n",
    "        "
   ]
  },
  {
   "cell_type": "code",
   "execution_count": null,
   "metadata": {},
   "outputs": [],
   "source": []
  }
 ],
 "metadata": {
  "kernelspec": {
   "display_name": "Python 3",
   "language": "python",
   "name": "python3"
  },
  "language_info": {
   "codemirror_mode": {
    "name": "ipython",
    "version": 3
   },
   "file_extension": ".py",
   "mimetype": "text/x-python",
   "name": "python",
   "nbconvert_exporter": "python",
   "pygments_lexer": "ipython3",
   "version": "3.7.6"
  }
 },
 "nbformat": 4,
 "nbformat_minor": 4
}
